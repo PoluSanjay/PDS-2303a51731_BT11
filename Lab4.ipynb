{
  "nbformat": 4,
  "nbformat_minor": 0,
  "metadata": {
    "colab": {
      "provenance": [],
      "include_colab_link": true
    },
    "kernelspec": {
      "name": "python3",
      "display_name": "Python 3"
    },
    "language_info": {
      "name": "python"
    }
  },
  "cells": [
    {
      "cell_type": "markdown",
      "metadata": {
        "id": "view-in-github",
        "colab_type": "text"
      },
      "source": [
        "<a href=\"https://colab.research.google.com/github/PoluSanjay/PDS-2303a51731_BT11/blob/main/Lab4.ipynb\" target=\"_parent\"><img src=\"https://colab.research.google.com/assets/colab-badge.svg\" alt=\"Open In Colab\"/></a>"
      ]
    },
    {
      "cell_type": "code",
      "execution_count": 3,
      "metadata": {
        "colab": {
          "base_uri": "https://localhost:8080/"
        },
        "id": "SDZ7dLaq2G2n",
        "outputId": "3e1a5df4-d9af-4493-9179-8459db65bc6f"
      },
      "outputs": [
        {
          "output_type": "stream",
          "name": "stdout",
          "text": [
            "Original Data:\n",
            "  Student  Math  Science  English\n",
            "0    Amit  85.0     88.0     90.0\n",
            "1    Neha  70.0      NaN     72.0\n",
            "2    Ravi   NaN     65.0     60.0\n",
            "3   Sneha  90.0     92.0      NaN\n",
            "4   Arjun  40.0     55.0     50.0\n",
            "5   Priya  78.0     80.0     85.0\n",
            "\n",
            "Data after filling missing marks with column-wise averages:\n",
            "  Student  Math  Science  English\n",
            "0    Amit  85.0     88.0     90.0\n",
            "1    Neha  70.0     76.0     72.0\n",
            "2    Ravi  72.6     65.0     60.0\n",
            "3   Sneha  90.0     92.0     71.4\n",
            "4   Arjun  40.0     55.0     50.0\n",
            "5   Priya  78.0     80.0     85.0\n",
            "\n",
            "High Achievers (scored > 75 in all subjects):\n",
            "  Student  Math  Science  English\n",
            "0    Amit  85.0     88.0     90.0\n",
            "5   Priya  78.0     80.0     85.0\n"
          ]
        }
      ],
      "source": [
        "import pandas as pd\n",
        "\n",
        "# Read the CSV file\n",
        "df = pd.read_csv(\"student_scores1.csv\")\n",
        "\n",
        "# Display initial data\n",
        "print(\"Original Data:\")\n",
        "print(df)\n",
        "\n",
        "# Fill missing subject marks with column-wise average\n",
        "df_filled = df.copy()\n",
        "df_filled[['Math', 'Science', 'English']] = df_filled[['Math', 'Science', 'English']].apply(\n",
        "    lambda col: col.fillna(col.mean())\n",
        ")\n",
        "\n",
        "print(\"\\nData after filling missing marks with column-wise averages:\")\n",
        "print(df_filled)\n",
        "\n",
        "# Filter students who scored more than 75 in all subjects\n",
        "high_achievers = df_filled[\n",
        "    (df_filled['Math'] > 75) &\n",
        "    (df_filled['Science'] > 75) &\n",
        "    (df_filled['English'] > 75)\n",
        "]\n",
        "\n",
        "print(\"\\nHigh Achievers (scored > 75 in all subjects):\")\n",
        "print(high_achievers)\n",
        "\n",
        "# Save results to CSV (optional)\n",
        "high_achievers.to_csv(\"high_achievers.csv\", index=False)"
      ]
    },
    {
      "cell_type": "code",
      "source": [
        "import pandas as pd\n",
        "\n",
        "# Load dataset from Excel\n",
        "df = pd.read_excel(\"patients.xlsx\")\n",
        "\n",
        "print(\"Original Data:\")\n",
        "print(df)\n",
        "\n",
        "# Replace missing Age values with median\n",
        "df['Age'] = df['Age'].fillna(df['Age'].median())\n",
        "\n",
        "print(\"\\nData after filling missing Ages with median:\")\n",
        "print(df)\n",
        "\n",
        "# Filter female patients aged above 50 diagnosed with Diabetes\n",
        "elderly_female_diabetes = df[\n",
        "    (df['Gender'] == \"Female\") &\n",
        "    (df['Age'] > 50) &\n",
        "    (df['Diagnosis'].str.lower() == \"diabetes\")\n",
        "]\n",
        "\n",
        "print(\"\\nElderly Female Patients with Diabetes:\")\n",
        "print(elderly_female_diabetes)\n",
        "\n",
        "# Save filtered results (optional)\n",
        "elderly_female_diabetes.to_excel(\"elderly_female_diabetes.xlsx\", index=False)\n"
      ],
      "metadata": {
        "colab": {
          "base_uri": "https://localhost:8080/"
        },
        "id": "QQB9ZDmY9FCa",
        "outputId": "720b322d-c1cc-478a-dc13-cb2ff406bebb"
      },
      "execution_count": null,
      "outputs": [
        {
          "output_type": "stream",
          "name": "stdout",
          "text": [
            "Original Data:\n",
            "  Patient_ID            Name   Age  Gender     Diagnosis Admission_Date\n",
            "0       P001      Anna Smith  65.0  Female      Diabetes     2025-01-24\n",
            "1       P002        John Doe  55.0    Male  Hypertension     2025-01-25\n",
            "2       P003   Linda Johnson   NaN  Female      Diabetes     2025-02-14\n",
            "3       P004   Michael Brown  45.0    Male        Asthma     2025-02-18\n",
            "4       P005     Susan Davis  72.0  Female      Diabetes     2025-02-25\n",
            "5       P006   Robert Wilson  80.0    Male      Diabetes     2025-02-28\n",
            "6       P007    Karen Miller  60.0  Female     Arthritis            NaT\n",
            "7       P008    Nancy Taylor   NaN  Female      Diabetes     2025-03-01\n",
            "8       P009  James Anderson  50.0    Male      Diabetes     2025-03-02\n",
            "9       P010     Mary Thomas  68.0  Female      Diabetes            NaT\n",
            "\n",
            "Data after filling missing Ages with median:\n",
            "  Patient_ID            Name   Age  Gender     Diagnosis Admission_Date\n",
            "0       P001      Anna Smith  65.0  Female      Diabetes     2025-01-24\n",
            "1       P002        John Doe  55.0    Male  Hypertension     2025-01-25\n",
            "2       P003   Linda Johnson  62.5  Female      Diabetes     2025-02-14\n",
            "3       P004   Michael Brown  45.0    Male        Asthma     2025-02-18\n",
            "4       P005     Susan Davis  72.0  Female      Diabetes     2025-02-25\n",
            "5       P006   Robert Wilson  80.0    Male      Diabetes     2025-02-28\n",
            "6       P007    Karen Miller  60.0  Female     Arthritis            NaT\n",
            "7       P008    Nancy Taylor  62.5  Female      Diabetes     2025-03-01\n",
            "8       P009  James Anderson  50.0    Male      Diabetes     2025-03-02\n",
            "9       P010     Mary Thomas  68.0  Female      Diabetes            NaT\n",
            "\n",
            "Elderly Female Patients with Diabetes:\n",
            "  Patient_ID           Name   Age  Gender Diagnosis Admission_Date\n",
            "0       P001     Anna Smith  65.0  Female  Diabetes     2025-01-24\n",
            "2       P003  Linda Johnson  62.5  Female  Diabetes     2025-02-14\n",
            "4       P005    Susan Davis  72.0  Female  Diabetes     2025-02-25\n",
            "7       P008   Nancy Taylor  62.5  Female  Diabetes     2025-03-01\n",
            "9       P010    Mary Thomas  68.0  Female  Diabetes            NaT\n"
          ]
        }
      ]
    }
  ]
}