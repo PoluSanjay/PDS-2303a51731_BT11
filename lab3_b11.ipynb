{
  "nbformat": 4,
  "nbformat_minor": 0,
  "metadata": {
    "colab": {
      "provenance": [],
      "authorship_tag": "ABX9TyNSuDnNx7Ei3WmhWMFveBl4",
      "include_colab_link": true
    },
    "kernelspec": {
      "name": "python3",
      "display_name": "Python 3"
    },
    "language_info": {
      "name": "python"
    }
  },
  "cells": [
    {
      "cell_type": "markdown",
      "metadata": {
        "id": "view-in-github",
        "colab_type": "text"
      },
      "source": [
        "<a href=\"https://colab.research.google.com/github/PoluSanjay/PDS-2303a51731_BT11/blob/main/lab3_b11.ipynb\" target=\"_parent\"><img src=\"https://colab.research.google.com/assets/colab-badge.svg\" alt=\"Open In Colab\"/></a>"
      ]
    },
    {
      "cell_type": "code",
      "execution_count": 1,
      "metadata": {
        "colab": {
          "base_uri": "https://localhost:8080/"
        },
        "id": "8l5uhT85Izfe",
        "outputId": "9760cfec-47ac-4503-8cea-baf624dd9d30"
      },
      "outputs": [
        {
          "output_type": "stream",
          "name": "stdout",
          "text": [
            "Test Scores (4x4 matrix):\n",
            " [[78 91 68 54]\n",
            " [82 47 60 78]\n",
            " [97 58 62 50]\n",
            " [50 63 92 75]] \n",
            "\n",
            "Row-wise Means: [72.75 66.75 66.75 70.  ]\n",
            "Column-wise Means: [76.75 64.75 70.5  64.25] \n",
            "\n",
            "Standard Deviation (global): 15.578305227142007\n",
            "Variance (global): 242.68359375 \n",
            "\n",
            "Global Maximum: 97 at index (np.int64(2), np.int64(0))\n",
            "Global Minimum: 47 at index (np.int64(1), np.int64(1)) \n",
            "\n",
            "Median Value (global): 65.5\n",
            "\n",
            "--- Summary ---\n",
            "Average scores per row: [72.75 66.75 66.75 70.  ]\n",
            "Average scores per column: [76.75 64.75 70.5  64.25]\n",
            "Overall mean score: 69.06\n",
            "Score variability (std dev): 15.58\n",
            "Highest score 97 at position (np.int64(2), np.int64(0))\n",
            "Lowest score 47 at position (np.int64(1), np.int64(1))\n",
            "Median score across all students: 65.5\n"
          ]
        }
      ],
      "source": [
        "import numpy as np\n",
        "\n",
        "np.random.seed(42)\n",
        "scores = np.random.randint(40, 100, size=(4, 4))\n",
        "print(\"Test Scores (4x4 matrix):\\n\", scores, \"\\n\")\n",
        "\n",
        "row_means = np.mean(scores, axis=1)\n",
        "col_means = np.mean(scores, axis=0)\n",
        "print(\"Row-wise Means:\", row_means)\n",
        "print(\"Column-wise Means:\", col_means, \"\\n\")\n",
        "\n",
        "std_dev = np.std(scores)\n",
        "variance = np.var(scores)\n",
        "print(\"Standard Deviation (global):\", std_dev)\n",
        "print(\"Variance (global):\", variance, \"\\n\")\n",
        "\n",
        "global_max = np.max(scores)\n",
        "global_min = np.min(scores)\n",
        "max_index = np.unravel_index(np.argmax(scores), scores.shape)\n",
        "min_index = np.unravel_index(np.argmin(scores), scores.shape)\n",
        "\n",
        "print(\"Global Maximum:\", global_max, \"at index\", max_index)\n",
        "print(\"Global Minimum:\", global_min, \"at index\", min_index, \"\\n\")\n",
        "\n",
        "median_val = np.median(scores)\n",
        "print(\"Median Value (global):\", median_val)\n",
        "\n",
        "print(\"\\n--- Summary ---\")\n",
        "print(f\"Average scores per row: {row_means}\")\n",
        "print(f\"Average scores per column: {col_means}\")\n",
        "print(f\"Overall mean score: {np.mean(scores):.2f}\")\n",
        "print(f\"Score variability (std dev): {std_dev:.2f}\")\n",
        "print(f\"Highest score {global_max} at position {max_index}\")\n",
        "print(f\"Lowest score {global_min} at position {min_index}\")\n",
        "print(f\"Median score across all students: {median_val}\")\n"
      ]
    }
  ]
}